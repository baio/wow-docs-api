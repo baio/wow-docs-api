{
 "cells": [
  {
   "cell_type": "code",
   "execution_count": null,
   "metadata": {
    "dotnet_interactive": {
     "language": "fsharp"
    }
   },
   "outputs": [
    {
     "data": {
      "text/html": "<table><thead><tr><th>Id</th><th>SpecVersion</th><th>Source</th><th>PubSubName</th><th>TraceId</th><th>Topic</th><th>DataSchema</th><th>Subject</th><th>Time</th><th>Data</th><th>DataBase64</th></tr></thead><tbody><tr><td><div class=\"dni-plaintext\">78416eaa-79e9-49bc-9370-14faa3a1d658</div></td><td><div class=\"dni-plaintext\">1.0</div></td><td><div class=\"dni-plaintext\">read-file</div></td><td><div class=\"dni-plaintext\">pubsub</div></td><td><div class=\"dni-plaintext\">00-d6056b9d2053415bc97cea07e7df4108-3f510079506c6a69-01</div></td><td><div class=\"dni-plaintext\">doc-read</div></td><td><div class=\"dni-plaintext\">&lt;null&gt;</div></td><td><div class=\"dni-plaintext\">&lt;null&gt;</div></td><td><div class=\"dni-plaintext\">&lt;null&gt;</div></td><td><div class=\"dni-plaintext\">{ { DocKey = &quot;1111&quot;\n  DocContent = &quot;xxx&quot; }: DocKey: 1111, DocContent: xxx }</div></td><td><div class=\"dni-plaintext\">&lt;null&gt;</div></td></tr></tbody></table>"
     },
     "output_type": "unknown"
    }
   ],
   "source": [
    "#r \"nuget:FSharp.SystemTextJson\"\r\n",
    "open System.Text.Json\r\n",
    "open System.Text.Json.Serialization\r\n",
    "\r\n",
    "type DocRead = { DocKey: string; DocContent: string }\r\n",
    "\r\n",
    "type CloudEvent =\r\n",
    "    {   Id: string\r\n",
    "        SpecVersion: string\r\n",
    "        Source: string\r\n",
    "        PubSubName: string\r\n",
    "        TraceId: string\r\n",
    "        Topic: string\r\n",
    "        DataSchema: string option\r\n",
    "        Subject: string option\r\n",
    "        Time: string option\r\n",
    "        Data: DocRead\r\n",
    "        DataBase64: string option }\r\n",
    "\r\n",
    "\r\n",
    "\r\n",
    "let str = \"\"\"\r\n",
    "        {\r\n",
    "            \"pubsubname\": \"pubsub\",\r\n",
    "            \"traceid\": \"00-d6056b9d2053415bc97cea07e7df4108-3f510079506c6a69-01\",\r\n",
    "            \"id\": \"78416eaa-79e9-49bc-9370-14faa3a1d658\",\r\n",
    "            \"datacontenttype\": \"application/json\",\r\n",
    "            \"topic\": \"doc-read\",\r\n",
    "            \"data\": {\r\n",
    "                \"docKey\": \"1111\",\r\n",
    "                \"docContent\": \"xxx\"\r\n",
    "            },\r\n",
    "            \"specversion\": \"1.0\",\r\n",
    "            \"source\": \"read-file\",\r\n",
    "            \"type\": \"com.dapr.event.sent\"\r\n",
    "        }\r\n",
    "    \"\"\"\r\n",
    "\r\n",
    "let serializationOptions = JsonSerializerOptions(PropertyNameCaseInsensitive = true)\r\n",
    "//serializationOptions.PropertyNamingPolicy <- JsonNamingPolicy.CamelCase\r\n",
    "let converter = JsonFSharpConverter(JsonUnionEncoding.FSharpLuLike)\r\n",
    "serializationOptions.Converters.Add(converter)\r\n",
    "\r\n",
    "let res = JsonSerializer.Deserialize<CloudEvent>(str, serializationOptions)\r\n",
    "\r\n",
    "res"
   ]
  },
  {
   "cell_type": "code",
   "execution_count": null,
   "metadata": {
    "dotnet_interactive": {
     "language": "fsharp"
    }
   },
   "outputs": [],
   "source": []
  }
 ],
 "metadata": {
  "kernelspec": {
   "display_name": ".NET (C#)",
   "language": "C#",
   "name": ".net-csharp"
  },
  "language_info": {
   "file_extension": ".cs",
   "mimetype": "text/x-csharp",
   "name": "C#",
   "pygments_lexer": "csharp",
   "version": "9.0"
  },
  "orig_nbformat": 2
 },
 "nbformat": 4,
 "nbformat_minor": 2
}