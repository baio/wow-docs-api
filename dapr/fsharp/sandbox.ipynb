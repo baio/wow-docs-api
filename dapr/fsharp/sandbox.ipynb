{
 "cells": [
  {
   "cell_type": "code",
   "execution_count": null,
   "metadata": {
    "dotnet_interactive": {
     "language": "fsharp"
    }
   },
   "outputs": [
    {
     "data": {
      "text/html": "<table><thead><tr><th>ResultValue</th><th>ErrorValue</th></tr></thead><tbody><tr><td><div class=\"dni-plaintext\">{ { Id = &quot;78416eaa-79e9-49bc-9370-14faa3a1d658&quot;\n  Specversion = &quot;1.0&quot;\n  Source = &quot;read-file&quot;\n  Type = &quot;com.dapr.event.sent&quot;\n  Datacontenttype = &quot;application/json&quot;\n  Pubsubname = &quot;pubsub&quot;\n  Traceid = &quot;00-d6056b9d2053415bc97cea07e7df4108-3f510079506c6a69-01&quot;\n  Topic = &quot;doc-read&quot;\n  Dataschema = None\n  Subject = None\n  Time = None\n  Data = Some { DocKey = &quot;1111&quot;\n                DocContent = &quot;xxx&quot; }\n  DataBase64 = None }: Id: 78416eaa-79e9-49bc-9370-14faa3a1d658, Specversion: 1.0, Source: read-file, Type: com.dapr.event.sent, Datacontenttype: application/json, Pubsubname: pubsub, Traceid: 00-d6056b9d2053415bc97cea07e7df4108-3f510079506c6a69-01, Topic: doc-read, Dataschema: &lt;null&gt;, Subject: &lt;null&gt;, Time: &lt;null&gt;, Data: { Some({ DocKey = &quot;1111&quot;\n  DocContent = &quot;xxx&quot; }): Value: { { DocKey = &quot;1111&quot;\n  DocContent = &quot;xxx&quot; }: DocKey: 1111, DocContent: xxx } }, DataBase64: &lt;null&gt; }</div></td><td><div class=\"dni-plaintext\">&lt;null&gt;</div></td></tr></tbody></table>"
     },
     "output_type": "unknown"
    }
   ],
   "source": [
    "#r \"nuget:Thoth.Json.Net\"\r\n",
    "\r\n",
    "open Thoth.Json.Net\r\n",
    "\r\n",
    "type DocRead = { DocKey: string; DocContent: string }\r\n",
    "\r\n",
    "type CloudEvent =\r\n",
    "    { Id: string\r\n",
    "      Specversion: string      \r\n",
    "      Source: string\r\n",
    "      Type: string\r\n",
    "      Datacontenttype: string\r\n",
    "      Pubsubname: string\r\n",
    "      Traceid: string\r\n",
    "      Topic: string      \r\n",
    "      Dataschema: string option\r\n",
    "      Subject: string option\r\n",
    "      Time: string option      \r\n",
    "      Data: DocRead option\r\n",
    "      Database64: string option\r\n",
    "      }\r\n",
    "\r\n",
    "\r\n",
    "let str = \"\"\"\r\n",
    "{\r\n",
    "    \"pubsubname\": \"pubsub\",\r\n",
    "    \"traceid\": \"00-d6056b9d2053415bc97cea07e7df4108-3f510079506c6a69-01\",\r\n",
    "    \"id\": \"78416eaa-79e9-49bc-9370-14faa3a1d658\",\r\n",
    "    \"datacontenttype\": \"application/json\",\r\n",
    "    \"topic\": \"doc-read\",\r\n",
    "    \"data\": {\r\n",
    "        \"docKey\": \"1111\",\r\n",
    "        \"docContent\": \"xxx\"\r\n",
    "    },\r\n",
    "    \"specversion\": \"1.0\",\r\n",
    "    \"source\": \"read-file\",\r\n",
    "    \"type\": \"com.dapr.event.sent\"\r\n",
    "}\"\"\"\r\n",
    "\r\n",
    "let x = Decode.Auto.fromString<CloudEvent>(str, caseStrategy=CamelCase)\r\n",
    "\r\n",
    "x"
   ]
  },
  {
   "cell_type": "code",
   "execution_count": null,
   "metadata": {
    "dotnet_interactive": {
     "language": "fsharp"
    }
   },
   "outputs": [],
   "source": []
  }
 ],
 "metadata": {
  "kernelspec": {
   "display_name": ".NET (C#)",
   "language": "C#",
   "name": ".net-csharp"
  },
  "language_info": {
   "file_extension": ".cs",
   "mimetype": "text/x-csharp",
   "name": "C#",
   "pygments_lexer": "csharp",
   "version": "9.0"
  },
  "orig_nbformat": 2
 },
 "nbformat": 4,
 "nbformat_minor": 2
}