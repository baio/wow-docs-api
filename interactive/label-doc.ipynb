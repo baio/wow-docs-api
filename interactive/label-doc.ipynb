{
 "cells": [
  {
   "cell_type": "markdown",
   "source": [
    "## Label doc by extracted words"
   ],
   "metadata": {}
  },
  {
   "cell_type": "markdown",
   "source": [
    "## Load words"
   ],
   "metadata": {}
  },
  {
   "cell_type": "code",
   "execution_count": null,
   "source": [
    "\r\n",
    "import re\r\n",
    "from nltk.corpus import stopwords as nltk_stop_words\r\n",
    "\r\n",
    "def clean_word(s: str):\r\n",
    "    return re.sub('[^a-zа-я]', '', s.lower())\r\n",
    "\r\n",
    "def read_lines(fname: str):\r\n",
    "    return open(fname, \"r\", 1000, \"utf-8\").readlines()\r\n",
    "\r\n",
    "# Load data and shit\r\n",
    "# Russian first names\r\n",
    "# TODO : Russian city names in English\r\n",
    "first_names = read_lines('./data/fnames.csv')\r\n",
    "# Russian last names\r\n",
    "last_names = read_lines('./data/lnames.csv')\r\n",
    "# Russian middle names\r\n",
    "mid_names = read_lines('./data/mnames.csv')\r\n",
    "# Russian first names transcripted\r\n",
    "first_names_lat = read_lines('./data/fnames_en.csv')\r\n",
    "# Russian last names transcripted\r\n",
    "last_names_lat = read_lines('./data/lnames_en.csv')\r\n",
    "# Russian middle names transcripted\r\n",
    "mid_names_lat = read_lines('./data/mnames_en.csv')\r\n",
    "# Russian regions lemized\r\n",
    "regions = read_lines('./data/ru-reg-tokens.csv')\r\n",
    "# Russian settlements\r\n",
    "settlements = read_lines('./data/ru-set-tokens.csv')\r\n",
    "\r\n",
    "stop_words_raw = first_names + last_names + mid_names + \\\r\n",
    "    first_names_lat + last_names_lat + mid_names_lat + \\\r\n",
    "    regions + settlements\r\n",
    "\r\n",
    "stop_words = [clean_word(x) for x in stop_words_raw]\r\n",
    "\r\n",
    "nltk_stop_words_en = nltk_stop_words.words('english')\r\n",
    "nltk_stop_words_ru = nltk_stop_words.words('russian')\r\n",
    "\r\n",
    "all_stop_words_set = set(stop_words + nltk_stop_words_en + nltk_stop_words_ru)\r\n"
   ],
   "outputs": [
    {
     "output_type": "error",
     "ename": "NameError",
     "evalue": "name 're' is not defined",
     "traceback": [
      "\u001b[1;31m---------------------------------------------------------------------------\u001b[0m",
      "\u001b[1;31mNameError\u001b[0m                                 Traceback (most recent call last)",
      "\u001b[1;32m<ipython-input-2-9d3a4c92a9a5>\u001b[0m in \u001b[0;36m<module>\u001b[1;34m\u001b[0m\n\u001b[0;32m     30\u001b[0m     \u001b[0mregions\u001b[0m \u001b[1;33m+\u001b[0m \u001b[0msettlements\u001b[0m\u001b[1;33m\u001b[0m\u001b[1;33m\u001b[0m\u001b[0m\n\u001b[0;32m     31\u001b[0m \u001b[1;33m\u001b[0m\u001b[0m\n\u001b[1;32m---> 32\u001b[1;33m \u001b[0mstop_words\u001b[0m \u001b[1;33m=\u001b[0m \u001b[1;33m[\u001b[0m\u001b[0mclean_word\u001b[0m\u001b[1;33m(\u001b[0m\u001b[0mx\u001b[0m\u001b[1;33m)\u001b[0m \u001b[1;32mfor\u001b[0m \u001b[0mx\u001b[0m \u001b[1;32min\u001b[0m \u001b[0mstop_words_raw\u001b[0m\u001b[1;33m]\u001b[0m\u001b[1;33m\u001b[0m\u001b[1;33m\u001b[0m\u001b[0m\n\u001b[0m\u001b[0;32m     33\u001b[0m \u001b[1;33m\u001b[0m\u001b[0m\n\u001b[0;32m     34\u001b[0m \u001b[0mnltk_stop_words_en\u001b[0m \u001b[1;33m=\u001b[0m \u001b[0mnltk_stop_words\u001b[0m\u001b[1;33m.\u001b[0m\u001b[0mwords\u001b[0m\u001b[1;33m(\u001b[0m\u001b[1;34m'english'\u001b[0m\u001b[1;33m)\u001b[0m\u001b[1;33m\u001b[0m\u001b[1;33m\u001b[0m\u001b[0m\n",
      "\u001b[1;32m<ipython-input-2-9d3a4c92a9a5>\u001b[0m in \u001b[0;36m<listcomp>\u001b[1;34m(.0)\u001b[0m\n\u001b[0;32m     30\u001b[0m     \u001b[0mregions\u001b[0m \u001b[1;33m+\u001b[0m \u001b[0msettlements\u001b[0m\u001b[1;33m\u001b[0m\u001b[1;33m\u001b[0m\u001b[0m\n\u001b[0;32m     31\u001b[0m \u001b[1;33m\u001b[0m\u001b[0m\n\u001b[1;32m---> 32\u001b[1;33m \u001b[0mstop_words\u001b[0m \u001b[1;33m=\u001b[0m \u001b[1;33m[\u001b[0m\u001b[0mclean_word\u001b[0m\u001b[1;33m(\u001b[0m\u001b[0mx\u001b[0m\u001b[1;33m)\u001b[0m \u001b[1;32mfor\u001b[0m \u001b[0mx\u001b[0m \u001b[1;32min\u001b[0m \u001b[0mstop_words_raw\u001b[0m\u001b[1;33m]\u001b[0m\u001b[1;33m\u001b[0m\u001b[1;33m\u001b[0m\u001b[0m\n\u001b[0m\u001b[0;32m     33\u001b[0m \u001b[1;33m\u001b[0m\u001b[0m\n\u001b[0;32m     34\u001b[0m \u001b[0mnltk_stop_words_en\u001b[0m \u001b[1;33m=\u001b[0m \u001b[0mnltk_stop_words\u001b[0m\u001b[1;33m.\u001b[0m\u001b[0mwords\u001b[0m\u001b[1;33m(\u001b[0m\u001b[1;34m'english'\u001b[0m\u001b[1;33m)\u001b[0m\u001b[1;33m\u001b[0m\u001b[1;33m\u001b[0m\u001b[0m\n",
      "\u001b[1;32m<ipython-input-2-9d3a4c92a9a5>\u001b[0m in \u001b[0;36mclean_word\u001b[1;34m(s)\u001b[0m\n\u001b[0;32m      2\u001b[0m \u001b[1;33m\u001b[0m\u001b[0m\n\u001b[0;32m      3\u001b[0m \u001b[1;32mdef\u001b[0m \u001b[0mclean_word\u001b[0m\u001b[1;33m(\u001b[0m\u001b[0ms\u001b[0m\u001b[1;33m:\u001b[0m \u001b[0mstr\u001b[0m\u001b[1;33m)\u001b[0m\u001b[1;33m:\u001b[0m\u001b[1;33m\u001b[0m\u001b[1;33m\u001b[0m\u001b[0m\n\u001b[1;32m----> 4\u001b[1;33m     \u001b[1;32mreturn\u001b[0m \u001b[0mre\u001b[0m\u001b[1;33m.\u001b[0m\u001b[0msub\u001b[0m\u001b[1;33m(\u001b[0m\u001b[1;34m'[^a-zа-я]'\u001b[0m\u001b[1;33m,\u001b[0m \u001b[1;34m''\u001b[0m\u001b[1;33m,\u001b[0m \u001b[0ms\u001b[0m\u001b[1;33m.\u001b[0m\u001b[0mlower\u001b[0m\u001b[1;33m(\u001b[0m\u001b[1;33m)\u001b[0m\u001b[1;33m)\u001b[0m\u001b[1;33m\u001b[0m\u001b[1;33m\u001b[0m\u001b[0m\n\u001b[0m\u001b[0;32m      5\u001b[0m \u001b[1;33m\u001b[0m\u001b[0m\n\u001b[0;32m      6\u001b[0m \u001b[1;32mdef\u001b[0m \u001b[0mread_lines\u001b[0m\u001b[1;33m(\u001b[0m\u001b[0mfname\u001b[0m\u001b[1;33m:\u001b[0m \u001b[0mstr\u001b[0m\u001b[1;33m)\u001b[0m\u001b[1;33m:\u001b[0m\u001b[1;33m\u001b[0m\u001b[1;33m\u001b[0m\u001b[0m\n",
      "\u001b[1;31mNameError\u001b[0m: name 're' is not defined"
     ]
    }
   ],
   "metadata": {
    "dotnet_interactive": {
     "language": "csharp"
    }
   }
  },
  {
   "cell_type": "markdown",
   "source": [
    "## Load words"
   ],
   "metadata": {}
  },
  {
   "cell_type": "code",
   "execution_count": null,
   "source": [
    "words = read_lines(\"./out/passport-1-words.txt\")"
   ],
   "outputs": [],
   "metadata": {
    "dotnet_interactive": {
     "language": "csharp"
    }
   }
  },
  {
   "cell_type": "markdown",
   "source": [
    "## Cleanup words"
   ],
   "metadata": {}
  },
  {
   "cell_type": "code",
   "execution_count": null,
   "source": [
    "from nltk.stem.snowball import SnowballStemmer\r\n",
    "stemmer = SnowballStemmer('russian')\r\n",
    "\r\n",
    "def process_words(words: str):\r\n",
    "    return [w for w in words if len(w) > 1 and w not in all_stop_words_set]\r\n",
    "\r\n",
    "def prepare_words(words: list[str]) -> list[str]:\r\n",
    "    # clean words\r\n",
    "    words = [clean_word(w) for w in words]\r\n",
    "    # process raw words\r\n",
    "    words = process_words(words)\r\n",
    "    # process stemmed once again\r\n",
    "    words = [stemmer.stem(w) for w in words]\r\n",
    "    words = process_words(words)\r\n",
    "    return words\r\n",
    "\r\n",
    "words = prepare_words(words)\r\n",
    "words"
   ],
   "outputs": [
    {
     "output_type": "execute_result",
     "data": {
      "text/plain": [
       "['отдел',\n",
       " 'уфмс',\n",
       " 'област',\n",
       " 'сл',\n",
       " 'выдач',\n",
       " 'подраздел',\n",
       " 'анчн',\n",
       " 'подп',\n",
       " 'сл',\n",
       " 'отчеств',\n",
       " 'муж',\n",
       " 'рожд',\n",
       " 'mecro',\n",
       " 'рожд',\n",
       " 'горзлатоуст',\n",
       " 'обл',\n",
       " 'pnrusputilovmaksimaleksandrovi',\n",
       " 'rusm']"
      ]
     },
     "metadata": {},
     "execution_count": 41
    }
   ],
   "metadata": {
    "dotnet_interactive": {
     "language": "csharp"
    }
   }
  },
  {
   "cell_type": "markdown",
   "source": [
    "## Predict doc type by prepared words\r\n",
    "\r\n",
    "[load trained model](https://scikit-learn.org/stable/modules/model_persistence.html)\r\n",
    "\r\n",
    "+ 0 - passport\r\n",
    "+ 1 - driver license\r\n"
   ],
   "metadata": {}
  },
  {
   "cell_type": "code",
   "execution_count": null,
   "source": [
    "from sklearn.feature_extraction.text import CountVectorizer\r\n",
    "from sklearn.naive_bayes import MultinomialNB\r\n",
    "from joblib import load\r\n",
    "\r\n",
    "clf = load('./data/trained.joblib') \r\n",
    "vocab = load('./data/vocab.joblib') \r\n",
    "countVectorizer = CountVectorizer(vocabulary=vocab)\r\n",
    "\r\n",
    "def label_doc(words: list[str]) -> int:    \r\n",
    "    sent = ' '.join(words)\r\n",
    "    X = countVectorizer.fit_transform([sent]).toarray()\r\n",
    "    return clf.predict(X)[0]\r\n",
    "\r\n",
    "label_doc(words) "
   ],
   "outputs": [
    {
     "output_type": "execute_result",
     "data": {
      "text/plain": [
       "0"
      ]
     },
     "metadata": {},
     "execution_count": 39
    }
   ],
   "metadata": {
    "dotnet_interactive": {
     "language": "csharp"
    }
   }
  },
  {
   "cell_type": "markdown",
   "source": [],
   "metadata": {}
  }
 ],
 "metadata": {
  "kernelspec": {
   "name": "python3",
   "display_name": "Python 3.9.4 64-bit"
  },
  "language_info": {
   "file_extension": ".cs",
   "mimetype": "text/x-csharp",
   "name": "python",
   "pygments_lexer": "csharp",
   "version": "3.9.4"
  },
  "metadata": {
   "interpreter": {
    "hash": "3a6d242d91aeb58fe386937833b5f5f6cec5014d2fa00dd7fd9caa355a6bd475"
   }
  },
  "orig_nbformat": 2,
  "interpreter": {
   "hash": "3a6d242d91aeb58fe386937833b5f5f6cec5014d2fa00dd7fd9caa355a6bd475"
  }
 },
 "nbformat": 4,
 "nbformat_minor": 2
}