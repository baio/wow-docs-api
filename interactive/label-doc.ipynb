{
 "cells": [
  {
   "cell_type": "markdown",
   "metadata": {},
   "source": [
    "## Label doc by extracted words"
   ]
  },
  {
   "cell_type": "markdown",
   "metadata": {},
   "source": [
    "## Load words"
   ]
  },
  {
   "cell_type": "code",
   "execution_count": 33,
   "metadata": {},
   "outputs": [],
   "source": [
    "\r\n",
    "from nltk.corpus import stopwords as nltk_stop_words\r\n",
    "\r\n",
    "def clean_word(s: str):\r\n",
    "    return re.sub('[^a-zа-я]', '', s.lower())\r\n",
    "\r\n",
    "def read_lines(fname: str):\r\n",
    "    return open(fname, \"r\", 1000, \"utf-8\").readlines()\r\n",
    "\r\n",
    "# Load data and shit\r\n",
    "# Russian first names\r\n",
    "# TODO : Russian city names in English\r\n",
    "first_names = read_lines('./data/fnames.csv')\r\n",
    "# Russian last names\r\n",
    "last_names = read_lines('./data/lnames.csv')\r\n",
    "# Russian middle names\r\n",
    "mid_names = read_lines('./data/mnames.csv')\r\n",
    "# Russian first names transcripted\r\n",
    "first_names_lat = read_lines('./data/fnames_en.csv')\r\n",
    "# Russian last names transcripted\r\n",
    "last_names_lat = read_lines('./data/lnames_en.csv')\r\n",
    "# Russian middle names transcripted\r\n",
    "mid_names_lat = read_lines('./data/mnames_en.csv')\r\n",
    "# Russian regions lemized\r\n",
    "regions = read_lines('./data/ru-reg-tokens.csv')\r\n",
    "# Russian settlements\r\n",
    "settlements = read_lines('./data/ru-set-tokens.csv')\r\n",
    "\r\n",
    "stop_words_raw = first_names + last_names + mid_names + \\\r\n",
    "    first_names_lat + last_names_lat + mid_names_lat + \\\r\n",
    "    regions + settlements\r\n",
    "\r\n",
    "stop_words = [clean_word(x) for x in stop_words_raw]\r\n",
    "\r\n",
    "nltk_stop_words_en = nltk_stop_words.words('english')\r\n",
    "nltk_stop_words_ru = nltk_stop_words.words('russian')\r\n",
    "\r\n",
    "all_stop_words_set = set(stop_words + nltk_stop_words_en + nltk_stop_words_ru)\r\n"
   ]
  },
  {
   "cell_type": "markdown",
   "metadata": {},
   "source": [
    "## Load words"
   ]
  },
  {
   "cell_type": "code",
   "execution_count": 37,
   "metadata": {},
   "outputs": [],
   "source": [
    "words = read_lines(\"./out/passport-1-words.txt\")"
   ]
  },
  {
   "cell_type": "markdown",
   "metadata": {},
   "source": [
    "## Cleanup words"
   ]
  },
  {
   "cell_type": "code",
   "execution_count": 41,
   "metadata": {},
   "outputs": [
    {
     "data": {
      "text/plain": "['отдел',\n 'уфмс',\n 'област',\n 'сл',\n 'выдач',\n 'подраздел',\n 'анчн',\n 'подп',\n 'сл',\n 'отчеств',\n 'муж',\n 'рожд',\n 'mecro',\n 'рожд',\n 'горзлатоуст',\n 'обл',\n 'pnrusputilovmaksimaleksandrovi',\n 'rusm']"
     },
     "execution_count": 41,
     "metadata": {},
     "output_type": "execute_result"
    }
   ],
   "source": [
    "from nltk.stem.snowball import SnowballStemmer\r\n",
    "stemmer = SnowballStemmer('russian')\r\n",
    "\r\n",
    "def process_words(words: str):\r\n",
    "    return [w for w in words if len(w) > 1 and w not in all_stop_words_set]\r\n",
    "\r\n",
    "def prepare_words(words: list[str]) -> list[str]:\r\n",
    "    # clean words\r\n",
    "    words = [clean_word(w) for w in words]\r\n",
    "    # process raw words\r\n",
    "    words = process_words(words)\r\n",
    "    # process stemmed once again\r\n",
    "    words = [stemmer.stem(w) for w in words]\r\n",
    "    words = process_words(words)\r\n",
    "    return words\r\n",
    "\r\n",
    "words = prepare_words(words)\r\n",
    "words"
   ]
  },
  {
   "cell_type": "markdown",
   "metadata": {},
   "source": [
    "## Predict doc type by prepared words\r\n",
    "\r\n",
    "[load trained model](https://scikit-learn.org/stable/modules/model_persistence.html)\r\n",
    "\r\n",
    "+ 0 - passport\r\n",
    "+ 1 - driver license\r\n"
   ]
  },
  {
   "cell_type": "code",
   "execution_count": 39,
   "metadata": {},
   "outputs": [
    {
     "data": {
      "text/plain": "0"
     },
     "execution_count": 39,
     "metadata": {},
     "output_type": "execute_result"
    }
   ],
   "source": [
    "from sklearn.feature_extraction.text import CountVectorizer\r\n",
    "from sklearn.naive_bayes import MultinomialNB\r\n",
    "from joblib import load\r\n",
    "\r\n",
    "clf = load('./data/trained.joblib') \r\n",
    "vocab = load('./data/vocab.joblib') \r\n",
    "countVectorizer = CountVectorizer(vocabulary=vocab)\r\n",
    "\r\n",
    "def label_doc(words: list[str]) -> int:    \r\n",
    "    sent = ' '.join(words)\r\n",
    "    X = countVectorizer.fit_transform([sent]).toarray()\r\n",
    "    return clf.predict(X)[0]\r\n",
    "\r\n",
    "label_doc(words) "
   ]
  },
  {
   "cell_type": "markdown",
   "metadata": {},
   "source": []
  }
 ],
 "metadata": {
  "kernelspec": {
   "display_name": "Python 3.9.4 64-bit",
   "name": "python394jvsc74a57bd03a6d242d91aeb58fe386937833b5f5f6cec5014d2fa00dd7fd9caa355a6bd475"
  },
  "language_info": {
   "codemirror_mode": {
    "name": "ipython",
    "version": 3
   },
   "file_extension": ".py",
   "mimetype": "text/x-python",
   "name": "python",
   "nbconvert_exporter": "python",
   "pygments_lexer": "ipython3",
   "version": "3.9.4"
  },
  "metadata": {
   "interpreter": {
    "hash": "3a6d242d91aeb58fe386937833b5f5f6cec5014d2fa00dd7fd9caa355a6bd475"
   }
  },
  "orig_nbformat": 2
 },
 "nbformat": 4,
 "nbformat_minor": 2
}