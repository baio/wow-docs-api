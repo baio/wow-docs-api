{
 "cells": [
  {
   "cell_type": "markdown",
   "metadata": {},
   "source": [
    "# Yandex OAuth\r\n",
    "\r\n",
    "[doc 1](https://oauth.yandex.com/)\r\n",
    "[doc 2](https://yandex.com/dev/oauth/doc/dg/concepts/about.html)\r\n",
    "\r\n",
    "[vow-dev](https://oauth.yandex.com/client/7489e5aae33b4568bf21cb434060df4d)\r\n",
    "[vow-dev info](https://oauth.yandex.com/client/7489e5aae33b4568bf21cb434060df4d/info)\r\n",
    "```\r\n",
    "dev env\r\n",
    "\r\n",
    "Scopes:\r\n",
    "Yandex.Disk REST API\r\n",
    "Writing in any place on Yandex.Disk\r\n",
    "\r\n",
    "Read all of Yandex.Disk\r\n",
    "\r\n",
    "Access to information about Yandex.Disk\r\n",
    "\r\n",
    "Access to app folder in Yandex.Disk\r\n",
    "\r\n",
    "ID: 7489e5aae33b4568bf21cb434060df4d\r\n",
    "Password: 2e99a0d6e178419a827a116452219f3a\r\n",
    "Callback URL: https://oauth.yandex.com/verification_code\r\n",
    "TTL of token: At least 1 year\r\n",
    "Date created: 05.06.2021\r\n",
    "```"
   ]
  },
  {
   "cell_type": "markdown",
   "metadata": {},
   "source": [
    "## Web app\r\n",
    "\r\n",
    "[docs](https://yandex.com/dev/oauth/doc/dg/reference/web-client.html)\r\n",
    "\r\n",
    "\r\n",
    "```\r\n",
    "https://oauth.yandex.com/authorize?\r\n",
    "   response_type=token\r\n",
    " & client_id=<идентификатор приложения>\r\n",
    "[& device_id=<идентификатор устройства>]\r\n",
    "[& device_name=<имя устройства>]\r\n",
    "[& redirect_uri=<адрес перенаправления>]\r\n",
    "[& login_hint=<имя пользователя или электронный адрес>]\r\n",
    "[& scope=<запрашиваемые необходимые права>]\r\n",
    "[& optional_scope=<запрашиваемые опциональные права>]\r\n",
    "[& force_confirm=yes]\r\n",
    "[& state=<произвольная строка>]\r\n",
    "[& display=popup]\r\n",
    "```"
   ]
  },
  {
   "cell_type": "code",
   "execution_count": null,
   "metadata": {
    "dotnet_interactive": {
     "language": "javascript"
    }
   },
   "outputs": [
    {
     "data": {
      "text/html": "<script type=\"text/javascript\">\nif (typeof window.createDotnetInteractiveClient === typeof Function) {\n    window.createDotnetInteractiveClient('http://localhost:59616/').then(async function (interactive) {\n        const console = interactive.getConsole('100');\n        const notebookScope = getDotnetInteractiveScope('http://localhost:59616/');\n        try {\n\nawait Object.getPrototypeOf(async function() {}).constructor(\n    \"interactive\",\n    \"console\",\n    \"notebookScope\",\n    \"notebookScope.onBtnClick = function() {\\r\\n    console.log(\\u0027????\\u0027);\\r\\n}\\r\\n\"\n)(\n    interactive,\n    console,\n    notebookScope\n);\n\n        } catch (err) {\n            interactive.failCommand(err, '100');\n        } finally {\n            await interactive.waitForAllEventsToPublish('100');\n            await interactive.markExecutionComplete('100');\n        }\n    });\n}\n</script>"
     },
     "output_type": "unknown"
    }
   ],
   "source": [
    "notebookScope.onBtnClick = function() {\r\n",
    "    console.log('????');\r\n",
    "}\r\n"
   ]
  },
  {
   "cell_type": "code",
   "execution_count": null,
   "metadata": {
    "dotnet_interactive": {
     "language": "html"
    }
   },
   "outputs": [
    {
     "data": {
      "text/html": "<button id=\"btn\">Click</button>\r\n<iframe src=\"https://oauth.yandex.com/authorize\">\r\n</iframe>"
     },
     "output_type": "unknown"
    }
   ],
   "source": [
    "<button id=\"btn\">Click</button>\r\n",
    "<iframe src=\"https://oauth.yandex.com/authorize\">\r\n",
    "</iframe>"
   ]
  },
  {
   "cell_type": "code",
   "execution_count": null,
   "metadata": {
    "dotnet_interactive": {
     "language": "javascript"
    }
   },
   "outputs": [
    {
     "data": {
      "text/html": "<script type=\"text/javascript\">\nif (typeof window.createDotnetInteractiveClient === typeof Function) {\n    window.createDotnetInteractiveClient('http://localhost:59616/').then(async function (interactive) {\n        const console = interactive.getConsole('171');\n        const notebookScope = getDotnetInteractiveScope('http://localhost:59616/');\n        try {\n\nawait Object.getPrototypeOf(async function() {}).constructor(\n    \"interactive\",\n    \"console\",\n    \"notebookScope\",\n    \"document.getElementById(\\\"btn\\\").onclick  = function() {\\r\\n    console.log(\\u0027222\\u0027);\\r\\n    window.open(\\u0027https://oauth.yandex.com/authorize\\u0027, \\u0027kek\\u0027);\\r\\n}\"\n)(\n    interactive,\n    console,\n    notebookScope\n);\n\n        } catch (err) {\n            interactive.failCommand(err, '171');\n        } finally {\n            await interactive.waitForAllEventsToPublish('171');\n            await interactive.markExecutionComplete('171');\n        }\n    });\n}\n</script>"
     },
     "output_type": "unknown"
    }
   ],
   "source": [
    "document.getElementById(\"btn\").onclick  = function() {\r\n",
    "    console.log('222');\r\n",
    "    window.open('https://oauth.yandex.com/authorize', 'kek');\r\n",
    "}"
   ]
  }
 ],
 "metadata": {
  "kernelspec": {
   "display_name": ".NET (C#)",
   "language": "C#",
   "name": ".net-csharp"
  },
  "language_info": {
   "file_extension": ".cs",
   "mimetype": "text/x-csharp",
   "name": "C#",
   "pygments_lexer": "csharp",
   "version": "9.0"
  },
  "orig_nbformat": 2
 },
 "nbformat": 4,
 "nbformat_minor": 2
}