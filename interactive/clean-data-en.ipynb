{
 "cells": [
  {
   "cell_type": "code",
   "execution_count": 1,
   "source": [
    "def read_lines(fname: str):\r\n",
    "    return open(fname, \"r\", 1000, \"utf-8\").readlines()\r\n",
    "\r\n",
    "# Russian first names transcripted\r\n",
    "first_names_lat = read_lines('./data/fnames_en.csv')\r\n",
    "# Russian last names transcripted\r\n",
    "last_names_lat = read_lines('./data/lnames_en.csv')\r\n",
    "# Russian middle names transcripted\r\n",
    "mid_names_lat = read_lines('./data/mnames_en.csv')\r\n"
   ],
   "outputs": [],
   "metadata": {
    "dotnet_interactive": {
     "language": "csharp"
    }
   }
  },
  {
   "cell_type": "code",
   "execution_count": 2,
   "source": [
    "import re\r\n",
    "from nltk.corpus import stopwords as nltk_stop_words\r\n",
    "russian_stop_words = nltk_stop_words.words('english')\r\n",
    "\r\n",
    "def clean_word(s: str):\r\n",
    "    return s.lower()\r\n",
    "\r\n",
    "def clean_words(words: list[str], additional_stop_words: list[str] = []):    \r\n",
    "    clean = [clean_word(x) for x in words]\r\n",
    "    stop_words = russian_stop_words + additional_stop_words\r\n",
    "    return [ w for w in clean if not (w in stop_words)]\r\n",
    "\r\n",
    "\r\n",
    "clean_first_names = clean_words(first_names_lat)\r\n",
    "clean_mid_names = clean_words(mid_names_lat)\r\n",
    "clean_last_names = clean_words(last_names_lat, clean_first_names + clean_mid_names)\r\n"
   ],
   "outputs": [
    {
     "output_type": "error",
     "ename": "KeyboardInterrupt",
     "evalue": "",
     "traceback": [
      "\u001b[1;31m---------------------------------------------------------------------------\u001b[0m",
      "\u001b[1;31mKeyboardInterrupt\u001b[0m                         Traceback (most recent call last)",
      "\u001b[1;32m<ipython-input-2-cf504f4eae5d>\u001b[0m in \u001b[0;36m<module>\u001b[1;34m\u001b[0m\n\u001b[0;32m     14\u001b[0m \u001b[0mclean_first_names\u001b[0m \u001b[1;33m=\u001b[0m \u001b[0mclean_words\u001b[0m\u001b[1;33m(\u001b[0m\u001b[0mfirst_names_lat\u001b[0m\u001b[1;33m)\u001b[0m\u001b[1;33m\u001b[0m\u001b[1;33m\u001b[0m\u001b[0m\n\u001b[0;32m     15\u001b[0m \u001b[0mclean_mid_names\u001b[0m \u001b[1;33m=\u001b[0m \u001b[0mclean_words\u001b[0m\u001b[1;33m(\u001b[0m\u001b[0mmid_names_lat\u001b[0m\u001b[1;33m)\u001b[0m\u001b[1;33m\u001b[0m\u001b[1;33m\u001b[0m\u001b[0m\n\u001b[1;32m---> 16\u001b[1;33m \u001b[0mclean_last_names\u001b[0m \u001b[1;33m=\u001b[0m \u001b[0mclean_words\u001b[0m\u001b[1;33m(\u001b[0m\u001b[0mlast_names_lat\u001b[0m\u001b[1;33m,\u001b[0m \u001b[0mclean_first_names\u001b[0m \u001b[1;33m+\u001b[0m \u001b[0mclean_mid_names\u001b[0m\u001b[1;33m)\u001b[0m\u001b[1;33m\u001b[0m\u001b[1;33m\u001b[0m\u001b[0m\n\u001b[0m",
      "\u001b[1;32m<ipython-input-2-cf504f4eae5d>\u001b[0m in \u001b[0;36mclean_words\u001b[1;34m(words, additional_stop_words)\u001b[0m\n\u001b[0;32m      9\u001b[0m     \u001b[0mclean\u001b[0m \u001b[1;33m=\u001b[0m \u001b[1;33m[\u001b[0m\u001b[0mclean_word\u001b[0m\u001b[1;33m(\u001b[0m\u001b[0mx\u001b[0m\u001b[1;33m)\u001b[0m \u001b[1;32mfor\u001b[0m \u001b[0mx\u001b[0m \u001b[1;32min\u001b[0m \u001b[0mwords\u001b[0m\u001b[1;33m]\u001b[0m\u001b[1;33m\u001b[0m\u001b[1;33m\u001b[0m\u001b[0m\n\u001b[0;32m     10\u001b[0m     \u001b[0mstop_words\u001b[0m \u001b[1;33m=\u001b[0m \u001b[0mrussian_stop_words\u001b[0m \u001b[1;33m+\u001b[0m \u001b[0madditional_stop_words\u001b[0m\u001b[1;33m\u001b[0m\u001b[1;33m\u001b[0m\u001b[0m\n\u001b[1;32m---> 11\u001b[1;33m     \u001b[1;32mreturn\u001b[0m \u001b[1;33m[\u001b[0m \u001b[0mw\u001b[0m \u001b[1;32mfor\u001b[0m \u001b[0mw\u001b[0m \u001b[1;32min\u001b[0m \u001b[0mclean\u001b[0m \u001b[1;32mif\u001b[0m \u001b[1;32mnot\u001b[0m \u001b[1;33m(\u001b[0m\u001b[0mw\u001b[0m \u001b[1;32min\u001b[0m \u001b[0mstop_words\u001b[0m\u001b[1;33m)\u001b[0m\u001b[1;33m]\u001b[0m\u001b[1;33m\u001b[0m\u001b[1;33m\u001b[0m\u001b[0m\n\u001b[0m\u001b[0;32m     12\u001b[0m \u001b[1;33m\u001b[0m\u001b[0m\n\u001b[0;32m     13\u001b[0m \u001b[1;33m\u001b[0m\u001b[0m\n",
      "\u001b[1;32m<ipython-input-2-cf504f4eae5d>\u001b[0m in \u001b[0;36m<listcomp>\u001b[1;34m(.0)\u001b[0m\n\u001b[0;32m      9\u001b[0m     \u001b[0mclean\u001b[0m \u001b[1;33m=\u001b[0m \u001b[1;33m[\u001b[0m\u001b[0mclean_word\u001b[0m\u001b[1;33m(\u001b[0m\u001b[0mx\u001b[0m\u001b[1;33m)\u001b[0m \u001b[1;32mfor\u001b[0m \u001b[0mx\u001b[0m \u001b[1;32min\u001b[0m \u001b[0mwords\u001b[0m\u001b[1;33m]\u001b[0m\u001b[1;33m\u001b[0m\u001b[1;33m\u001b[0m\u001b[0m\n\u001b[0;32m     10\u001b[0m     \u001b[0mstop_words\u001b[0m \u001b[1;33m=\u001b[0m \u001b[0mrussian_stop_words\u001b[0m \u001b[1;33m+\u001b[0m \u001b[0madditional_stop_words\u001b[0m\u001b[1;33m\u001b[0m\u001b[1;33m\u001b[0m\u001b[0m\n\u001b[1;32m---> 11\u001b[1;33m     \u001b[1;32mreturn\u001b[0m \u001b[1;33m[\u001b[0m \u001b[0mw\u001b[0m \u001b[1;32mfor\u001b[0m \u001b[0mw\u001b[0m \u001b[1;32min\u001b[0m \u001b[0mclean\u001b[0m \u001b[1;32mif\u001b[0m \u001b[1;32mnot\u001b[0m \u001b[1;33m(\u001b[0m\u001b[0mw\u001b[0m \u001b[1;32min\u001b[0m \u001b[0mstop_words\u001b[0m\u001b[1;33m)\u001b[0m\u001b[1;33m]\u001b[0m\u001b[1;33m\u001b[0m\u001b[1;33m\u001b[0m\u001b[0m\n\u001b[0m\u001b[0;32m     12\u001b[0m \u001b[1;33m\u001b[0m\u001b[0m\n\u001b[0;32m     13\u001b[0m \u001b[1;33m\u001b[0m\u001b[0m\n",
      "\u001b[1;31mKeyboardInterrupt\u001b[0m: "
     ]
    }
   ],
   "metadata": {
    "dotnet_interactive": {
     "language": "csharp"
    }
   }
  },
  {
   "cell_type": "code",
   "execution_count": null,
   "source": [
    "def write_lines(fname: str, lines: list[str]):\r\n",
    "    return open(fname, \"w\", 1000, \"utf-8\").writelines([l + '\\n' for l in lines])\r\n",
    "\r\n",
    "# Load data and shit\r\n",
    "# Russian first names\r\n",
    "# TODO : Russian city names in English\r\n",
    "first_names = write_lines('./data-clean-en/fnames-en.csv', clean_first_names)\r\n",
    "last_names = write_lines('./data-clean-en/lnames-en.csv', clean_last_names)\r\n",
    "mid_names = write_lines('./data-clean-en/mnames-en.csv', clean_mid_names)\r\n"
   ],
   "outputs": [],
   "metadata": {
    "dotnet_interactive": {
     "language": "csharp"
    }
   }
  }
 ],
 "metadata": {
  "orig_nbformat": 4,
  "language_info": {
   "name": "python",
   "version": "3.9.4",
   "mimetype": "text/x-python",
   "codemirror_mode": {
    "name": "ipython",
    "version": 3
   },
   "pygments_lexer": "ipython3",
   "nbconvert_exporter": "python",
   "file_extension": ".py"
  },
  "kernelspec": {
   "name": "python3",
   "display_name": "Python 3.9.4 64-bit"
  },
  "interpreter": {
   "hash": "3a6d242d91aeb58fe386937833b5f5f6cec5014d2fa00dd7fd9caa355a6bd475"
  }
 },
 "nbformat": 4,
 "nbformat_minor": 2
}