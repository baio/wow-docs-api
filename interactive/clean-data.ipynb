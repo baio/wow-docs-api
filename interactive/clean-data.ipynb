{
 "cells": [
  {
   "cell_type": "code",
   "execution_count": 5,
   "source": [
    "def read_lines(fname: str):\r\n",
    "    return open(fname, \"r\", 1000, \"utf-8\").readlines()\r\n",
    "\r\n",
    "# Load data and shit\r\n",
    "# Russian first names\r\n",
    "# TODO : Russian city names in English\r\n",
    "first_names = read_lines('./data/fnames.csv')\r\n",
    "# Russian last names\r\n",
    "last_names = read_lines('./data/lnames.csv')\r\n",
    "# Russian middle names\r\n",
    "mid_names = read_lines('./data/mnames.csv')\r\n",
    "# Russian first names transcripted\r\n",
    "first_names_lat = read_lines('./data/fnames_en.csv')\r\n",
    "# Russian last names transcripted\r\n",
    "last_names_lat = read_lines('./data/lnames_en.csv')\r\n",
    "# Russian middle names transcripted\r\n",
    "mid_names_lat = read_lines('./data/mnames_en.csv')\r\n",
    "# Russian regions lemized\r\n",
    "regions = read_lines('./data/ru-reg-tokens.csv')\r\n",
    "# Russian settlements\r\n",
    "settlements = read_lines('./data/ru-set-tokens.csv')\r\n"
   ],
   "outputs": [],
   "metadata": {
    "dotnet_interactive": {
     "language": "csharp"
    }
   }
  },
  {
   "cell_type": "code",
   "execution_count": 6,
   "source": [
    "import re\r\n",
    "from nltk.corpus import stopwords as nltk_stop_words\r\n",
    "russian_stop_words = nltk_stop_words.words('russian')\r\n",
    "\r\n",
    "def clean_word(s: str):\r\n",
    "    return re.sub('[^a-zа-я]', '', s.lower())\r\n",
    "\r\n",
    "def clean_words(words: list[str], additional_stop_words: list[str] = []):    \r\n",
    "    clean = [clean_word(x) for x in words]\r\n",
    "    stop_words = russian_stop_words + additional_stop_words\r\n",
    "    return [ w for w in clean if not (w in stop_words)]\r\n",
    "\r\n",
    "\r\n",
    "clean_first_names = clean_words(first_names)\r\n",
    "clean_mid_names = clean_words(mid_names)\r\n",
    "clean_last_names = clean_words(last_names, clean_first_names + clean_mid_names)\r\n"
   ],
   "outputs": [],
   "metadata": {
    "dotnet_interactive": {
     "language": "csharp"
    }
   }
  },
  {
   "cell_type": "code",
   "execution_count": 7,
   "source": [
    "def write_lines(fname: str, lines: list[str]):\r\n",
    "    return open(fname, \"w\", 1000, \"utf-8\").writelines([l + '\\n' for l in lines])\r\n",
    "\r\n",
    "# Load data and shit\r\n",
    "# Russian first names\r\n",
    "# TODO : Russian city names in English\r\n",
    "first_names = write_lines('./data-clean/fnames.csv', clean_first_names)\r\n",
    "last_names = write_lines('./data-clean/lnames.csv', clean_last_names)\r\n",
    "mid_names = write_lines('./data-clean/mnames.csv', clean_mid_names)\r\n"
   ],
   "outputs": [],
   "metadata": {
    "dotnet_interactive": {
     "language": "csharp"
    }
   }
  }
 ],
 "metadata": {
  "orig_nbformat": 4,
  "language_info": {
   "name": "python",
   "version": "3.9.4",
   "mimetype": "text/x-python",
   "codemirror_mode": {
    "name": "ipython",
    "version": 3
   },
   "pygments_lexer": "ipython3",
   "nbconvert_exporter": "python",
   "file_extension": ".py"
  },
  "kernelspec": {
   "name": "python3",
   "display_name": "Python 3.9.4 64-bit"
  },
  "interpreter": {
   "hash": "3a6d242d91aeb58fe386937833b5f5f6cec5014d2fa00dd7fd9caa355a6bd475"
  }
 },
 "nbformat": 4,
 "nbformat_minor": 2
}