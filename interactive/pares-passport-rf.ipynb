{
 "cells": [
  {
   "cell_type": "code",
   "execution_count": null,
   "source": [
    "open System.IO\r\n",
    "\r\n",
    "let lines = File.ReadAllLines(\"./out/passport-1-words.txt\")\r\n",
    "\r\n",
    "let clearLines =\r\n",
    "    lines\r\n",
    "    |> Seq.map(fun m -> m.ToLower())\r\n",
    "    |> Seq.filter(fun m -> m.Length > 1)\r\n",
    "\r\n",
    "let wordsLine = String.Join(\" \", clearLines)\r\n",
    "wordsLine\r\n"
   ],
   "outputs": [
    {
     "data": {
      "text/plain": [
       "отделением уфмс россии видам по челябинской области гор. трехгорный сл дата выдачи 23.12.2013 код подразделения 740-049 код м. анчная подпись 0-049 путилов максим сл отчество александрович дата муж. рождения 11.03.1980 mecro рождения гор. златоуст челябинской обл. pnrusputilov<<maksim<aleksandrovi3<<< 7513680817rus8003111m<<<<<<<3131223740049<50"
      ]
     },
     "metadata": {},
     "output_type": "display_data"
    }
   ],
   "metadata": {
    "dotnet_interactive": {
     "language": "fsharp"
    }
   }
  },
  {
   "cell_type": "markdown",
   "source": [
    "### Passport parse"
   ],
   "metadata": {}
  },
  {
   "cell_type": "code",
   "execution_count": null,
   "source": [
    "open System\r\n",
    "open System.Text.RegularExpressions\r\n",
    "\r\n",
    "let inline iif c t f = if c then t else f\r\n",
    "let inline iif2 (c1, t1) (c2, t2) f = if c1 then t1 else (if c2 then t2 else f)\r\n",
    "let inline iin c t = iif c t null\r\n",
    "\r\n",
    "let iim (m: Match) = iin m.Success m.Value\r\n",
    "let iimg (m: Match) i = iin (m.Groups.Count > i) m.Groups.[i].Value \r\n",
    "let iimc (m: MatchCollection) i = iin (m.Count > i) m.[i].Value \r\n",
    "let iimcg (m: MatchCollection) i j = iin (m.Count > i && m.[i].Groups.Count > j) m.[i].Groups.[j].Captures.[0].Value \r\n",
    "let iimlg (m: MatchCollection) j = iimcg m (m.Count - 1) j\r\n",
    "\r\n",
    "let toNullable = (function | Some x -> x | None -> null)"
   ],
   "outputs": [],
   "metadata": {
    "dotnet_interactive": {
     "language": "fsharp"
    }
   }
  },
  {
   "cell_type": "code",
   "execution_count": null,
   "source": [
    "open System.IO\r\n",
    "\r\n",
    "let toClean (str: string) = str.ToLowerInvariant().Replace(\"\\\"\", \"\")\r\n",
    "let toCleans = Seq.map toClean\r\n",
    "\r\n",
    "let firstNames = File.ReadAllLines(\"./data/fnames.csv\") |> toCleans\r\n",
    "let lastNames = File.ReadAllLines(\"./data/lnames.csv\") |> toCleans\r\n",
    "let midNames = File.ReadAllLines(\"./data/mnames.csv\") |> toCleans\r\n",
    "\r\n",
    "let isSomeName c str = c |> Seq.contains str\r\n",
    "let findSomeName c = Seq.tryFind (isSomeName c) >> toNullable\r\n",
    "\r\n",
    "let findFirstName x = x |> findSomeName firstNames\r\n",
    "let findLastName x = x |> findSomeName lastNames\r\n",
    "let findMiddleName x = x |> findSomeName midNames\r\n"
   ],
   "outputs": [],
   "metadata": {
    "dotnet_interactive": {
     "language": "fsharp"
    }
   }
  },
  {
   "cell_type": "code",
   "execution_count": null,
   "source": [
    "\r\n",
    "let issuer = Regex \"(^|федерация)(.*?)(дата)\"\r\n",
    "let issuerCode = Regex \"\\d{3}\\-\\d{3}\"\r\n",
    "let date = Regex \"\\d{2}\\.\\d{2}\\.\\d{4}\"\r\n",
    "let birthPlace = Regex \"(рожден.*?\\s+)(.*?)([a-z]+)\"\r\n",
    "let number = Regex \"\\d{9}\"\r\n",
    "let sex = Regex \"муж\\.|жен\\.\"\r\n",
    "\r\n",
    "let parsePassportRf str = \r\n",
    "\r\n",
    "    let issuerMatch = issuer.Match str\r\n",
    "    let issuerCodeMatch = issuerCode.Match str\r\n",
    "    let dateMatch = date.Matches str\r\n",
    "    let birthPlaceMatch = birthPlace.Matches str\r\n",
    "    let numberMatch = number.Match str\r\n",
    "    let sexMatch = sex.Match str\r\n",
    "\r\n",
    "    let sexResult = iim sexMatch\r\n",
    "\r\n",
    "    let words = str.Split \" \"\r\n",
    "\r\n",
    "    let firstName = findFirstName words\r\n",
    "\r\n",
    "    {|\r\n",
    "        Issuer = iimg issuerMatch 2\r\n",
    "        IssueDate = iimc dateMatch 0\r\n",
    "        issuerCode = iim issuerCodeMatch\r\n",
    "        BirthDate = iimc dateMatch 1\r\n",
    "        BirthPlace = iimlg birthPlaceMatch 2\r\n",
    "        Number = iim numberMatch\r\n",
    "        FirstName = findFirstName words\r\n",
    "        LastName = findLastName words\r\n",
    "        MiddleName = findMiddleName words\r\n",
    "        Sex = (iif2 (sexResult = \"муж.\", \"male\") (sexResult = \"жен.\", \"female\") null) \r\n",
    "    |}    \r\n",
    "        \r\n",
    "\r\n",
    "parsePassportRf wordsLine\r\n",
    "\r\n",
    "\r\n",
    " "
   ],
   "outputs": [
    {
     "data": {
      "text/html": [
       "<table><thead><tr><th>BirthDate</th><th>BirthPlace</th><th>FirstName</th><th>IssueDate</th><th>Issuer</th><th>LastName</th><th>MiddleName</th><th>Number</th><th>Sex</th><th>issuerCode</th></tr></thead><tbody><tr><td><div class=\"dni-plaintext\">11.03.1980</div></td><td><div class=\"dni-plaintext\">гор. златоуст челябинской обл. </div></td><td><div class=\"dni-plaintext\">максим</div></td><td><div class=\"dni-plaintext\">23.12.2013</div></td><td><div class=\"dni-plaintext\">отделением уфмс россии видам по челябинской области гор. трехгорный сл </div></td><td><div class=\"dni-plaintext\">по</div></td><td><div class=\"dni-plaintext\">александрович</div></td><td><div class=\"dni-plaintext\">751368081</div></td><td><div class=\"dni-plaintext\">male</div></td><td><div class=\"dni-plaintext\">740-049</div></td></tr></tbody></table>"
      ]
     },
     "metadata": {},
     "output_type": "display_data"
    }
   ],
   "metadata": {
    "dotnet_interactive": {
     "language": "fsharp"
    }
   }
  }
 ],
 "metadata": {
  "orig_nbformat": 4,
  "language_info": {
   "file_extension": ".cs",
   "mimetype": "text/x-csharp",
   "name": "C#",
   "pygments_lexer": "csharp",
   "version": "9.0"
  },
  "kernelspec": {
   "display_name": ".NET (C#)",
   "language": "C#",
   "name": ".net-csharp"
  }
 },
 "nbformat": 4,
 "nbformat_minor": 2
}