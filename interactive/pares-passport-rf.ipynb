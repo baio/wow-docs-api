{
 "cells": [
  {
   "cell_type": "code",
   "execution_count": null,
   "source": [
    "open System.IO\r\n",
    "\r\n",
    "let lines = File.ReadAllLines(\"./out/passport-1-words.txt\")\r\n",
    "\r\n",
    "let clearLines =\r\n",
    "    lines\r\n",
    "    |> Seq.map(fun m -> m.ToLower())\r\n",
    "    |> Seq.filter(fun m -> m.Length > 1)\r\n",
    "\r\n",
    "let wordsLine = String.Join(\" \", clearLines)\r\n",
    "wordsLine\r\n"
   ],
   "outputs": [
    {
     "output_type": "display_data",
     "data": {
      "text/plain": [
       "отделением уфмс россии видам по челябинской области гор. трехгорный сл дата выдачи 23.12.2013 код подразделения 740-049 код м. анчная подпись 0-049 путилов максим сл отчество александрович дата муж. рождения 11.03.1980 mecro рождения гор. златоуст челябинской обл. pnrusputilov<<maksim<aleksandrovi3<<< 7513680817rus8003111m<<<<<<<3131223740049<50"
      ]
     },
     "metadata": {}
    }
   ],
   "metadata": {
    "dotnet_interactive": {
     "language": "fsharp"
    }
   }
  },
  {
   "cell_type": "markdown",
   "source": [
    "## Farsec\r\n",
    "\r\n",
    "[docs](http://www.quanttec.com/fparsec/tutorial.html)"
   ],
   "metadata": {}
  },
  {
   "cell_type": "markdown",
   "source": [
    "### Test code"
   ],
   "metadata": {}
  },
  {
   "cell_type": "code",
   "execution_count": null,
   "source": [
    "#r \"nuget:FParsec\"\r\n",
    "open FParsec\r\n",
    "\r\n",
    "let test p str =\r\n",
    "    match run p str with\r\n",
    "    | Success(result, _, _)   -> printfn \"Success: %A\" result\r\n",
    "    | Failure(errorMsg, _, _) -> printfn \"Failure: %s\" errorMsg\r\n",
    "\r\n",
    "let str s = pstring s\r\n",
    "let floatBetweenBrackets x = x |> (str \"[\" >>. pfloat .>> str \"]\")\r\n",
    "\r\n",
    "test floatBetweenBrackets \"[1.25]\""
   ],
   "outputs": [
    {
     "output_type": "display_data",
     "data": {
      "text/html": [
       "<div><div></div><div></div><div></div></div>"
      ]
     },
     "metadata": {}
    },
    {
     "output_type": "display_data",
     "data": {
      "text/plain": [
       "Success: "
      ]
     },
     "metadata": {}
    },
    {
     "output_type": "display_data",
     "data": {
      "text/plain": [
       "1.25"
      ]
     },
     "metadata": {}
    },
    {
     "output_type": "display_data",
     "data": {
      "text/plain": [
       "\r\n"
      ]
     },
     "metadata": {}
    }
   ],
   "metadata": {
    "dotnet_interactive": {
     "language": "fsharp"
    }
   }
  },
  {
   "cell_type": "markdown",
   "source": [
    "### Passport parse"
   ],
   "metadata": {}
  },
  {
   "cell_type": "code",
   "execution_count": null,
   "source": [],
   "outputs": [],
   "metadata": {
    "dotnet_interactive": {
     "language": "fsharp"
    }
   }
  },
  {
   "cell_type": "code",
   "execution_count": null,
   "source": [
    "\r\n",
    "open FParsec\r\n",
    "\r\n",
    "let str s = spaces .>> pstring s .>> spaces\r\n",
    "//let letter = spaces .>> letter .>> spaces\r\n",
    "let notDigit = many1Satisfy(isDigit >> not)\r\n",
    "let test p str =\r\n",
    "    match run p str with\r\n",
    "    | Success(result, _, _)   -> printfn \"Success: %A\" result\r\n",
    "    | Failure(errorMsg, _, _) -> printfn \"Failure: %s\" errorMsg\r\n",
    "\r\n",
    "let issuer x = x |> charsTillString \"дата\" false 500\r\n",
    "let twoDigits = pipe2 digit digit (sprintf \"%c%c\")\r\n",
    "let fourDigits = pipe4 digit digit digit digit (sprintf \"%c%c%c%c\") \r\n",
    "let date = pipe3 (twoDigits .>> pchar '.') (twoDigits .>> pchar '.') fourDigits (sprintf \"%s.%s.%s\")\r\n",
    "let issueDate = notDigit >>. date\r\n",
    "\r\n",
    "test (issuer .>>. issueDate) wordsLine "
   ],
   "outputs": [
    {
     "output_type": "display_data",
     "data": {
      "text/plain": [
       "Success: "
      ]
     },
     "metadata": {}
    },
    {
     "output_type": "display_data",
     "data": {
      "text/plain": [
       "(\"отделением уфмс россии видам по челябинской области гор. трехгорный сл \",\n",
       " \"23.12.2013\")"
      ]
     },
     "metadata": {}
    },
    {
     "output_type": "display_data",
     "data": {
      "text/plain": [
       "\r\n"
      ]
     },
     "metadata": {}
    }
   ],
   "metadata": {
    "dotnet_interactive": {
     "language": "fsharp"
    }
   }
  },
  {
   "cell_type": "code",
   "execution_count": null,
   "source": [
    "open System\r\n",
    "open System.Text.RegularExpressions\r\n",
    "\r\n",
    "let date = Regex \"\\d{2}\\.\\d{2}\\.\\d{4}\"\r\n",
    "let issuerCode = Regex \"\\d{3}-\\d{3}\"\r\n",
    "\r\n",
    "let issuer = Regex \"(^|федерация)(.*)дата\"\r\n",
    "\r\n",
    "let dateMatch = date.Matches wordsLine\r\n",
    "let issuerMatch = issuer.Match wordsLine\r\n",
    "\r\n",
    "\r\n",
    "issuerMatch.Value\r\n",
    "\r\n",
    " "
   ],
   "outputs": [
    {
     "output_type": "display_data",
     "data": {
      "text/plain": [
       "отделением уфмс россии видам по челябинской области гор. трехгорный сл дата выдачи 23.12.2013 код подразделения 740-049 код м. анчная подпись 0-049 путилов максим сл отчество александрович дата"
      ]
     },
     "metadata": {}
    }
   ],
   "metadata": {
    "dotnet_interactive": {
     "language": "fsharp"
    }
   }
  }
 ],
 "metadata": {
  "orig_nbformat": 4,
  "language_info": {
   "file_extension": ".cs",
   "mimetype": "text/x-csharp",
   "name": "C#",
   "pygments_lexer": "csharp",
   "version": "9.0"
  },
  "kernelspec": {
   "display_name": ".NET (C#)",
   "language": "C#",
   "name": ".net-csharp"
  }
 },
 "nbformat": 4,
 "nbformat_minor": 2
}