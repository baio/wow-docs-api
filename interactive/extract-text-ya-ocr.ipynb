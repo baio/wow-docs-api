{
 "cells": [
  {
   "cell_type": "markdown",
   "metadata": {},
   "source": [
    "## Read file"
   ]
  },
  {
   "cell_type": "code",
   "execution_count": null,
   "metadata": {
    "dotnet_interactive": {
     "language": "fsharp"
    }
   },
   "outputs": [],
   "source": [
    "#!fsharp\r\n",
    "open System.IO\r\n",
    "let imageBuffer = File.ReadAllBytes \"./images/dvr-license-1.jpg\""
   ]
  },
  {
   "cell_type": "markdown",
   "metadata": {},
   "source": [
    "## Convert image to base64 string "
   ]
  },
  {
   "cell_type": "code",
   "execution_count": null,
   "metadata": {
    "dotnet_interactive": {
     "language": "fsharp"
    }
   },
   "outputs": [],
   "source": [
    "#!fsharp\r\n",
    "open System\r\n",
    "let image64 = Convert.ToBase64String imageBuffer"
   ]
  },
  {
   "cell_type": "markdown",
   "metadata": {},
   "source": [
    "## Use yandex API to extract text from image\r\n",
    "\r\n",
    "### Get yandex token first\r\n",
    "\r\n",
    "Your current folder has been set to 'default' (id = b1g3aavp9tndrdr9q148).\r\n",
    "\r\n",
    "\r\n",
    "[ya-ocr docs](https://cloud.yandex.com/en-ru/docs/vision/operations/ocr/text-detection)\r\n",
    "\r\n"
   ]
  },
  {
   "cell_type": "code",
   "execution_count": null,
   "metadata": {
    "dotnet_interactive": {
     "language": "pwsh"
    }
   },
   "outputs": [
    {
     "data": {
      "text/plain": "t1.9euelZrHmouexpySloyWl53GlsrJl-3rnpWal8ebi5aJmJ2Ky4yVkc2dmJrl9PdkCkB6-e9RS0-r3fT3JDk9evnvUUtPqw.skcKqS58TrsznIj7Sni69Va2wX6grNDfvnc-axwbykex7trX2cC9Tu_KGRMw073rq8lBJJ7yjsBcYL4HQghiBA\r\n"
     },
     "output_type": "unknown"
    }
   ],
   "source": [
    "#!powershell\r\n",
    "yc iam create-token"
   ]
  },
  {
   "cell_type": "markdown",
   "metadata": {},
   "source": [
    "### Extract data from the image using yandex API"
   ]
  },
  {
   "cell_type": "code",
   "execution_count": null,
   "metadata": {
    "dotnet_interactive": {
     "language": "fsharp"
    }
   },
   "outputs": [],
   "source": [
    "// Result type def\r\n",
    "// created with https://app.quicktype.io/ convert to typescript and then modify manually\r\n",
    "type Vertex = {\r\n",
    "    x: string;\r\n",
    "    y: string;\r\n",
    "}\r\n",
    "\r\n",
    "type Language = {\r\n",
    "    languageCode: string;\r\n",
    "    confidence:   float;\r\n",
    "}\r\n",
    "\r\n",
    "type BoundingBox = {\r\n",
    "    vertices: Vertex[];\r\n",
    "}\r\n",
    "\r\n",
    "type Word = {\r\n",
    "    boundingBox: BoundingBox;\r\n",
    "    languages:   Language[];\r\n",
    "    text:        string;\r\n",
    "    confidence:  float;\r\n",
    "}\r\n",
    "\r\n",
    "type Line = {\r\n",
    "    boundingBox: BoundingBox;\r\n",
    "    words:       Word[];\r\n",
    "    confidence:  float;\r\n",
    "}\r\n",
    "\r\n",
    "type Block = {\r\n",
    "    boundingBox: BoundingBox;\r\n",
    "    lines:       Line[];\r\n",
    "}\r\n",
    "\r\n",
    "type Page = {\r\n",
    "    blocks: Block[];\r\n",
    "    width:  string;\r\n",
    "    height: string;\r\n",
    "}\r\n",
    "\r\n",
    "type TextDetection = {\r\n",
    "    pages: Page[];\r\n",
    "}\r\n",
    "\r\n",
    "type ResultResult = {\r\n",
    "    textDetection: TextDetection;\r\n",
    "}\r\n",
    "\r\n",
    "type YaOcrResult = {\r\n",
    "    results: ResultResult[];\r\n",
    "}\r\n",
    "\r\n",
    "type YaOcr = {\r\n",
    "    results: YaOcrResult[];\r\n",
    "}\r\n",
    "\r\n"
   ]
  },
  {
   "cell_type": "code",
   "execution_count": null,
   "metadata": {
    "dotnet_interactive": {
     "language": "fsharp"
    }
   },
   "outputs": [
    {
     "data": {
      "text/plain": "Installed package Oryx version 4.0.0"
     },
     "output_type": "unknown"
    },
    {
     "data": {
      "text/plain": "Installed package Oryx.SystemTextJson version 4.0.0"
     },
     "output_type": "unknown"
    }
   ],
   "source": [
    "#!fsharp\r\n",
    "\r\n",
    "#r \"nuget:Oryx\"\r\n",
    "#r \"nuget:Oryx.SystemTextJson\"\r\n",
    "\r\n",
    "// create you yandex account first\r\n",
    "let YA_FOLDER = \"b1g3aavp9tndrdr9q148\"\r\n",
    "// copy value from output of pervious cell\r\n",
    "let YA_TOKEN=\"t1.9euelZqVlpOVnJadysnPl5aRkYqXiu3rnpWal8ebi5aJmJ2Ky4yVkc2dmJrl8_dKWEF6-e9ONGg__t3z9woHP3r57040aD_-.Jx7P-ukSlooE6D5DI9nHo0SS3evVj0hM4ajM2zPbGfgqz8SO8aNuKPxmIXf_yzWzM-tBtBM3dHp0vrh0Dsq9Cg\"\r\n",
    "let YA_URL=\"https://vision.api.cloud.yandex.net/vision/v1/batchAnalyze\"\r\n",
    "\r\n",
    "open Oryx\r\n",
    "open Oryx.SystemTextJson.ResponseReader\r\n",
    "open System.Net.Http\r\n",
    "open System.Threading.Tasks\r\n",
    "open System.Text.Json\r\n",
    "\r\n",
    "let options = JsonSerializerOptions()\r\n",
    "\r\n",
    "let bodyFeatures = \r\n",
    "    {|\r\n",
    "        Type = \"TEXT_DETECTION\"\r\n",
    "        text_detection_config = {| language_codes = [|\"*\"|] |}\r\n",
    "    |}\r\n",
    "    \r\n",
    "let body = {|\r\n",
    "    folderId = YA_FOLDER\r\n",
    "    analyze_specs = [|\r\n",
    "      {|\r\n",
    "        content = image64\r\n",
    "        features = bodyFeatures\r\n",
    "      |}\r\n",
    "    |]\r\n",
    "|}\r\n",
    "\r\n",
    "\r\n",
    "let bodyContent = Json.JsonContent.Create body :> HttpContent\r\n",
    "\r\n",
    "let request = \r\n",
    "    POST \r\n",
    "    >=> withUrl YA_URL \r\n",
    "    >=> withContent (fun _ -> bodyContent)\r\n",
    "    >=> fetch\r\n",
    "    >=> json<YaOcr> options\r\n",
    "\r\n",
    "let client = new HttpClient ()\r\n",
    "let ctx = \r\n",
    "    HttpContext.defaultContext     \r\n",
    "    |> HttpContext.withHeader (\"Authorization\", $\"Bearer {YA_TOKEN}\")\r\n",
    "    |> HttpContext.withHttpClient client \r\n",
    "\r\n",
    "let yaOcrJsonResult = request |> runAsync ctx |> Async.AwaitTask |> Async.RunSynchronously\r\n",
    "\r\n",
    "\r\n"
   ]
  },
  {
   "cell_type": "code",
   "execution_count": null,
   "metadata": {
    "dotnet_interactive": {
     "language": "fsharp"
    }
   },
   "outputs": [
    {
     "data": {
      "text/html": "<table><thead><tr><th><i>index</i></th><th>value</th></tr></thead><tbody><tr><td>0</td><td>Водительское</td></tr><tr><td>1</td><td>de</td></tr><tr><td>2</td><td>Фамилия</td></tr><tr><td>3</td><td>ПУТИЛОВ</td></tr><tr><td>4</td><td>И.</td></tr><tr><td>5</td><td>мя</td></tr><tr><td>6</td><td>Отчество</td></tr><tr><td>7</td><td>PUTILOV</td></tr><tr><td>8</td><td>МАКСИМ</td></tr><tr><td>9</td><td>MAKSIM</td></tr><tr><td>10</td><td>АЛЕКСАНДРОВИЧ</td></tr><tr><td>11</td><td>и</td></tr><tr><td>12</td><td>место</td></tr><tr><td>13</td><td>рождения</td></tr><tr><td>14</td><td>11.03.1980</td></tr><tr><td>15</td><td>ЧЕЛЯБИНСКАЯ ОБЛАСТЬ</td></tr><tr><td>16</td><td>-</td></tr><tr><td>17</td><td>CHELYABIN</td></tr><tr><td>18</td><td>Место</td></tr><tr><td>19</td><td>жительства</td></tr><tr><td colspan=\"2\">(14 more)</td></tr></tbody></table>"
     },
     "output_type": "unknown"
    }
   ],
   "source": [
    "// extract text from result\r\n",
    "\r\n",
    "let yaOcrJson = \r\n",
    "    match yaOcrJsonResult with \r\n",
    "    | Ok yaOcrJson -> yaOcrJson\r\n",
    "    | Error err ->\r\n",
    "        raise err\r\n",
    "\r\n",
    "let blocks = yaOcrJson.results.[0].results.[0].textDetection.pages.[0].blocks\r\n",
    "\r\n",
    "let words =\r\n",
    "    blocks|> Array.collect(fun block -> block.lines |> Array.collect(fun line -> line.words |> Array.map(fun word -> word.text)))\r\n",
    "\r\n",
    "words"
   ]
  },
  {
   "cell_type": "markdown",
   "metadata": {},
   "source": [
    "### Preapre data and utilities to cleanup words"
   ]
  },
  {
   "cell_type": "code",
   "execution_count": null,
   "metadata": {
    "dotnet_interactive": {
     "language": "fsharp"
    }
   },
   "outputs": [],
   "source": [
    "open System.IO\r\n",
    "\r\n",
    "File.WriteAllLines(\"./out/dvr-license-1-words.txt\", words)"
   ]
  }
 ],
 "metadata": {
  "kernelspec": {
   "display_name": ".NET (C#)",
   "language": "C#",
   "name": ".net-csharp"
  },
  "language_info": {
   "file_extension": ".cs",
   "mimetype": "text/x-csharp",
   "name": "C#",
   "pygments_lexer": "csharp",
   "version": "9.0"
  }
 },
 "nbformat": 4,
 "nbformat_minor": 2
}