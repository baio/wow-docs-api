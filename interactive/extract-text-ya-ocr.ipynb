{
 "cells": [
  {
   "cell_type": "markdown",
   "source": [
    "## Read file"
   ],
   "metadata": {}
  },
  {
   "cell_type": "code",
   "execution_count": null,
   "source": [
    "#!fsharp\r\n",
    "open System.IO\r\n",
    "let imageBuffer = File.ReadAllBytes \"./images/passport-1.jpg\""
   ],
   "outputs": [],
   "metadata": {
    "dotnet_interactive": {
     "language": "fsharp"
    }
   }
  },
  {
   "cell_type": "markdown",
   "source": [
    "## Convert image to base64 string "
   ],
   "metadata": {}
  },
  {
   "cell_type": "code",
   "execution_count": null,
   "source": [
    "#!fsharp\r\n",
    "open System\r\n",
    "let image64 = Convert.ToBase64String imageBuffer"
   ],
   "outputs": [],
   "metadata": {
    "dotnet_interactive": {
     "language": "fsharp"
    }
   }
  },
  {
   "cell_type": "markdown",
   "source": [
    "## Use yandex API to extract text from image\r\n",
    "\r\n",
    "### Get yandex token first\r\n",
    "\r\n",
    "Your current folder has been set to 'default' (id = b1g3aavp9tndrdr9q148).\r\n",
    "\r\n",
    "\r\n",
    "[ya-ocr docs](https://cloud.yandex.com/en-ru/docs/vision/operations/ocr/text-detection)\r\n",
    "\r\n"
   ],
   "metadata": {}
  },
  {
   "cell_type": "code",
   "execution_count": null,
   "source": [
    "#!powershell\r\n",
    "yc iam create-token"
   ],
   "outputs": [
    {
     "output_type": "display_data",
     "data": {
      "text/plain": [
       "t1.9euelZrIzpiTk8mYl4rPipCdlsfNye3rnpWal8ebi5aJmJ2Ky4yVkc2dmJrl8_coZHl3-e9iERVa_N3z92gSd3f572IRFVr8.JoEPzqiPReSaCIxa2XzaijQle3TABxa4e4S4rsEcmdrBlLtSdpc6mSnQ4Y8IndLp5Re_iUskvuF9vObQYeIQAg\r\n"
      ]
     },
     "metadata": {}
    }
   ],
   "metadata": {
    "dotnet_interactive": {
     "language": "pwsh"
    }
   }
  },
  {
   "cell_type": "markdown",
   "source": [
    "### Extract data from the image using yandex API"
   ],
   "metadata": {}
  },
  {
   "cell_type": "code",
   "execution_count": null,
   "source": [
    "// Result type def\r\n",
    "// created with https://app.quicktype.io/ convert to typescript and then modify manually\r\n",
    "type Vertex = {\r\n",
    "    x: string;\r\n",
    "    y: string;\r\n",
    "}\r\n",
    "\r\n",
    "type Language = {\r\n",
    "    languageCode: string;\r\n",
    "    confidence:   float;\r\n",
    "}\r\n",
    "\r\n",
    "type BoundingBox = {\r\n",
    "    vertices: Vertex[];\r\n",
    "}\r\n",
    "\r\n",
    "type Word = {\r\n",
    "    boundingBox: BoundingBox;\r\n",
    "    languages:   Language[];\r\n",
    "    text:        string;\r\n",
    "    confidence:  float;\r\n",
    "}\r\n",
    "\r\n",
    "type Line = {\r\n",
    "    boundingBox: BoundingBox;\r\n",
    "    words:       Word[];\r\n",
    "    confidence:  float;\r\n",
    "}\r\n",
    "\r\n",
    "type Block = {\r\n",
    "    boundingBox: BoundingBox;\r\n",
    "    lines:       Line[];\r\n",
    "}\r\n",
    "\r\n",
    "type Page = {\r\n",
    "    blocks: Block[];\r\n",
    "    width:  string;\r\n",
    "    height: string;\r\n",
    "}\r\n",
    "\r\n",
    "type TextDetection = {\r\n",
    "    pages: Page[];\r\n",
    "}\r\n",
    "\r\n",
    "type ResultResult = {\r\n",
    "    textDetection: TextDetection;\r\n",
    "}\r\n",
    "\r\n",
    "type YaOcrResult = {\r\n",
    "    results: ResultResult[];\r\n",
    "}\r\n",
    "\r\n",
    "type YaOcr = {\r\n",
    "    results: YaOcrResult[];\r\n",
    "}\r\n",
    "\r\n"
   ],
   "outputs": [],
   "metadata": {
    "dotnet_interactive": {
     "language": "fsharp"
    }
   }
  },
  {
   "cell_type": "code",
   "execution_count": null,
   "source": [
    "#!fsharp\r\n",
    "\r\n",
    "#r \"nuget:Oryx\"\r\n",
    "#r \"nuget:Oryx.SystemTextJson\"\r\n",
    "\r\n",
    "// create you yandex account first\r\n",
    "let YA_FOLDER = \"b1g3aavp9tndrdr9q148\"\r\n",
    "// copy value from output of pervious cell\r\n",
    "let YA_TOKEN=\"t1.9euelZrIzpiTk8mYl4rPipCdlsfNye3rnpWal8ebi5aJmJ2Ky4yVkc2dmJrl8_coZHl3-e9iERVa_N3z92gSd3f572IRFVr8.JoEPzqiPReSaCIxa2XzaijQle3TABxa4e4S4rsEcmdrBlLtSdpc6mSnQ4Y8IndLp5Re_iUskvuF9vObQYeIQAg\"\r\n",
    "let YA_URL=\"https://vision.api.cloud.yandex.net/vision/v1/batchAnalyze\"\r\n",
    "\r\n",
    "open Oryx\r\n",
    "open Oryx.SystemTextJson.ResponseReader\r\n",
    "open System.Net.Http\r\n",
    "open System.Threading.Tasks\r\n",
    "open System.Text.Json\r\n",
    "\r\n",
    "let options = JsonSerializerOptions()\r\n",
    "\r\n",
    "let bodyFeatures = \r\n",
    "    {|\r\n",
    "        Type = \"TEXT_DETECTION\"\r\n",
    "        text_detection_config = {| language_codes = [|\"*\"|] |}\r\n",
    "    |}\r\n",
    "    \r\n",
    "let body = {|\r\n",
    "    folderId = YA_FOLDER\r\n",
    "    analyze_specs = [|\r\n",
    "      {|\r\n",
    "        content = image64\r\n",
    "        features = bodyFeatures\r\n",
    "      |}\r\n",
    "    |]\r\n",
    "|}\r\n",
    "\r\n",
    "\r\n",
    "let bodyContent = Json.JsonContent.Create body :> HttpContent\r\n",
    "\r\n",
    "let request = \r\n",
    "    POST \r\n",
    "    >=> withUrl YA_URL \r\n",
    "    >=> withContent (fun _ -> bodyContent)\r\n",
    "    >=> fetch\r\n",
    "    >=> json<YaOcr> options\r\n",
    "\r\n",
    "let client = new HttpClient ()\r\n",
    "let ctx = \r\n",
    "    HttpContext.defaultContext     \r\n",
    "    |> HttpContext.withHeader (\"Authorization\", $\"Bearer {YA_TOKEN}\")\r\n",
    "    |> HttpContext.withHttpClient client \r\n",
    "\r\n",
    "let yaOcrJsonResult = request |> runAsync ctx |> Async.AwaitTask |> Async.RunSynchronously\r\n",
    "\r\n",
    "\r\n"
   ],
   "outputs": [
    {
     "output_type": "display_data",
     "data": {
      "text/html": [
       "<div><div></div><div><strong>Installed Packages</strong><ul><li><span>fsharp.core, 5.0.1</span></li><li><span>fstoolkit.errorhandling, 2.1.2</span></li><li><span>microsoft.extensions.dependencyinjection, 5.0.0</span></li><li><span>microsoft.extensions.dependencyinjection.abstractions, 5.0.0</span></li><li><span>microsoft.extensions.logging, 5.0.0</span></li><li><span>microsoft.extensions.logging.abstractions, 5.0.0</span></li><li><span>microsoft.extensions.options, 5.0.0</span></li><li><span>microsoft.extensions.primitives, 5.0.0</span></li><li><span>Oryx, 4.0.0</span></li><li><span>Oryx.SystemTextJson, 4.0.0</span></li><li><span>ply, 0.3.1</span></li><li><span>system.text.json, 5.0.1</span></li></ul></div><div></div></div>"
      ]
     },
     "metadata": {}
    }
   ],
   "metadata": {
    "dotnet_interactive": {
     "language": "fsharp"
    }
   }
  },
  {
   "cell_type": "code",
   "execution_count": null,
   "source": [
    "// extract text from result\r\n",
    "\r\n",
    "let yaOcrJson = \r\n",
    "    match yaOcrJsonResult with \r\n",
    "    | Ok yaOcrJson -> yaOcrJson\r\n",
    "    | Error err ->\r\n",
    "        raise err\r\n",
    "\r\n",
    "let blocks = yaOcrJson.results.[0].results.[0].textDetection.pages.[0].blocks\r\n",
    "\r\n",
    "let words =\r\n",
    "    blocks|> Array.collect(fun block -> block.lines |> Array.collect(fun line -> line.words |> Array.map(fun word -> word.text)))\r\n",
    "\r\n",
    "words"
   ],
   "outputs": [
    {
     "output_type": "display_data",
     "data": {
      "text/html": [
       "<table><thead><tr><th><i>index</i></th><th>value</th></tr></thead><tbody><tr><td>0</td><td>с</td></tr><tr><td>1</td><td>и</td></tr><tr><td>2</td><td>й</td></tr><tr><td>3</td><td>с</td></tr><tr><td>4</td><td>к</td></tr><tr><td>5</td><td>а</td></tr><tr><td>6</td><td>я</td></tr><tr><td>7</td><td>ф</td></tr><tr><td>8</td><td>е</td></tr><tr><td>9</td><td>д</td></tr><tr><td>10</td><td>е</td></tr><tr><td>11</td><td>р</td></tr><tr><td>12</td><td>а</td></tr><tr><td>13</td><td>ц</td></tr><tr><td>14</td><td>и</td></tr><tr><td>15</td><td>я</td></tr><tr><td>16</td><td>ОТДЕЛЕНИЕМ</td></tr><tr><td>17</td><td>УФМС</td></tr><tr><td>18</td><td>РОССИИ</td></tr><tr><td>19</td><td>видам</td></tr><tr><td colspan=\"2\">(34 more)</td></tr></tbody></table>"
      ]
     },
     "metadata": {}
    }
   ],
   "metadata": {
    "dotnet_interactive": {
     "language": "fsharp"
    }
   }
  },
  {
   "cell_type": "markdown",
   "source": [
    "### Preapre data and utilities to cleanup words"
   ],
   "metadata": {}
  },
  {
   "cell_type": "code",
   "execution_count": null,
   "source": [
    "open System.IO\r\n",
    "\r\n",
    "File.WriteAllLines(\"./out/passport-1-words.txt\", words)"
   ],
   "outputs": [],
   "metadata": {
    "dotnet_interactive": {
     "language": "fsharp"
    }
   }
  }
 ],
 "metadata": {
  "kernelspec": {
   "display_name": ".NET (C#)",
   "language": "C#",
   "name": ".net-csharp"
  },
  "language_info": {
   "file_extension": ".cs",
   "mimetype": "text/x-csharp",
   "name": "C#",
   "pygments_lexer": "csharp",
   "version": "9.0"
  }
 },
 "nbformat": 4,
 "nbformat_minor": 2
}